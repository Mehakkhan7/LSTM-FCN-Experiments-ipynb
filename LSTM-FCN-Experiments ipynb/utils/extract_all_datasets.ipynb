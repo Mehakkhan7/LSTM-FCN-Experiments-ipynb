{
 "cells": [
  {
   "cell_type": "code",
   "execution_count": null,
   "metadata": {},
   "outputs": [],
   "source": [
    "import os\n",
    "import glob\n",
    "import numpy as np\n",
    "import pandas as pd\n",
    "import shutil\n",
    "from joblib import Parallel, delayed\n",
    "\n",
    "path = '_data'\n",
    "\n",
    "if not os.path.exists(path):\n",
    "    os.makedirs(path)\n",
    "\n",
    "\n",
    "def process_file(fn):\n",
    "    file_name = os.path.split(fn)[-1]\n",
    "    file_name = file_name[:-4]\n",
    "    new_path = os.path.join(path, file_name)\n",
    "\n",
    "    # Load the Tab seperated values in the dataset\n",
    "    df = pd.read_table(fn, header=None, encoding='latin-1')\n",
    "\n",
    "    # Fill the empty timesteps with 0.0\n",
    "    df.fillna(0.0, inplace=True)\n",
    "\n",
    "    # Save the prepared dataset as a CSV file that the dataset reader can use\n",
    "    df.to_csv(new_path, sep=',', index=False, header=None, encoding='latin-1')\n",
    "\n",
    "    # shutil.copy(fn, new_path)\n",
    "    print(\"Copied file from %s to %s\" % (fn, new_path))\n",
    "\n",
    "\n",
    "with Parallel(n_jobs=-1, backend='loky', verbose=1) as engine:\n",
    "    engine([delayed(process_file)(fn) for fn in glob.glob(\"*/*.tsv\")])\n",
    "\n",
    "print()\n",
    "print(\"Extracted all files. Transfer all these files to the `data` directory\")\n"
   ]
  }
 ],
 "metadata": {
  "kernelspec": {
   "display_name": "Python 3",
   "language": "python",
   "name": "python3"
  },
  "language_info": {
   "codemirror_mode": {
    "name": "ipython",
    "version": 3
   },
   "file_extension": ".py",
   "mimetype": "text/x-python",
   "name": "python",
   "nbconvert_exporter": "python",
   "pygments_lexer": "ipython3",
   "version": "3.6.5"
  }
 },
 "nbformat": 4,
 "nbformat_minor": 2
}
